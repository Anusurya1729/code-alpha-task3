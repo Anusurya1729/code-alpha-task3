{
 "cells": [
  {
   "cell_type": "markdown",
   "id": "2ad4a96e",
   "metadata": {},
   "source": [
    "# Create chatbot useing Python & NLTK"
   ]
  },
  {
   "cell_type": "code",
   "execution_count": null,
   "id": "64fd092c",
   "metadata": {},
   "outputs": [],
   "source": [
    "#create chabot using python\n",
    "greetings = [\"hi\", \"hello\", \"hey\"]\n",
    "questions = [\"how are you\", \"what's up?\"]\n",
    "responses = [\"I'm doing well, thanks for asking!\", \"Just hanging out, waiting to chat!\"]\n",
    "farewells = [\"bye\", \"goodbye\", \"see you later\"]\n",
    "\n",
    "\n",
    "def respond(message):\n",
    "  message = message.lower()\n",
    "  if message in greetings:\n",
    "    return \"Hey there!\"\n",
    "  elif message in questions:\n",
    "    return responses[0]  # Choose a random response from responses list\n",
    "  elif message in farewells:\n",
    "    return \"See you later!\"\n",
    "  else:\n",
    "    return \"I don't understand, but it sounds interesting!\"\n",
    "\n",
    "# Main loop\n",
    "while True:\n",
    "  user_input = input(\"You: \")\n",
    "  if user_input.lower() == \"quit\":\n",
    "    break\n",
    "  print(\"Chatbot:\", respond(user_input))"
   ]
  },
  {
   "cell_type": "markdown",
   "id": "53fe9f59",
   "metadata": {},
   "source": [
    "# With NLTK"
   ]
  },
  {
   "cell_type": "code",
   "execution_count": null,
   "id": "d5d93fce",
   "metadata": {},
   "outputs": [],
   "source": [
    "!pip instal nltk"
   ]
  },
  {
   "cell_type": "code",
   "execution_count": null,
   "id": "ae5c62f3",
   "metadata": {},
   "outputs": [],
   "source": [
    "import nltk\n",
    "from nltk.chat.util import Chat, reflections"
   ]
  },
  {
   "cell_type": "code",
   "execution_count": null,
   "id": "a6b6d334",
   "metadata": {},
   "outputs": [],
   "source": [
    "reflections = {\n",
    "  \"i am\"       : \"you are\",\n",
    "  \"i was\"      : \"you were\",\n",
    "  \"i\"          : \"you\",\n",
    "  \"i'm\"        : \"you are\",\n",
    "  \"i'd\"        : \"you would\",\n",
    "  \"i've\"       : \"you have\",\n",
    "  \"i'll\"       : \"you will\",\n",
    "  \"my\"         : \"your\",\n",
    "  \"you are\"    : \"I am\",\n",
    "  \"you were\"   : \"I was\",\n",
    "  \"you've\"     : \"I have\",\n",
    "  \"you'll\"     : \"I will\",\n",
    "  \"your\"       : \"my\",\n",
    "  \"yours\"      : \"mine\",\n",
    "  \"you\"        : \"me\",\n",
    "  \"me\"         : \"you\"\n",
    "}"
   ]
  },
  {
   "cell_type": "code",
   "execution_count": null,
   "id": "20693f12",
   "metadata": {},
   "outputs": [],
   "source": [
    "pairs = [\n",
    "    [\n",
    "        r\"my name is (.*)\",\n",
    "        [\"Hello %1, How are you today ?\",]\n",
    "    ],\n",
    "    [\n",
    "        r\"hi|hey|hello\",\n",
    "        [\"Hello\", \"Hey there\",]\n",
    "    ], \n",
    "    [\n",
    "        r\"what is your name ?\",\n",
    "        [\"I am a bot created by Analytics Vidhya. you can call me crazy!\",]\n",
    "    ],\n",
    "    [\n",
    "        r\"how are you ?\",\n",
    "        [\"I'm doing goodnHow about You ?\",]\n",
    "    ]]"
   ]
  },
  {
   "cell_type": "code",
   "execution_count": null,
   "id": "55278d01",
   "metadata": {},
   "outputs": [],
   "source": [
    "def chat():\n",
    "    print(\"Hi! I am a chatbot created by Analytics Vidhya for your service\")\n",
    "    chat = Chat(pairs, reflections)\n",
    "    chat.converse()\n",
    "#initiate the conversation\n",
    "if __name__ == \"__main__\":\n",
    "    chat()"
   ]
  },
  {
   "cell_type": "code",
   "execution_count": null,
   "id": "0d4b67bb",
   "metadata": {},
   "outputs": [],
   "source": []
  },
  {
   "cell_type": "code",
   "execution_count": null,
   "id": "ec224020",
   "metadata": {},
   "outputs": [],
   "source": []
  }
 ],
 "metadata": {
  "kernelspec": {
   "display_name": "Python 3 (ipykernel)",
   "language": "python",
   "name": "python3"
  },
  "language_info": {
   "codemirror_mode": {
    "name": "ipython",
    "version": 3
   },
   "file_extension": ".py",
   "mimetype": "text/x-python",
   "name": "python",
   "nbconvert_exporter": "python",
   "pygments_lexer": "ipython3",
   "version": "3.9.13"
  }
 },
 "nbformat": 4,
 "nbformat_minor": 5
}
